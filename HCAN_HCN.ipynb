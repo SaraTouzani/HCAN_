{
 "cells": [
  {
   "cell_type": "markdown",
   "metadata": {
    "colab_type": "text",
    "id": "view-in-github"
   },
   "source": [
    "<a href=\"https://colab.research.google.com/github/SaraTouzani/HCAN_/blob/master/HCAN_HCN.ipynb\" target=\"_parent\"><img src=\"https://colab.research.google.com/assets/colab-badge.svg\" alt=\"Open In Colab\"/></a>"
   ]
  },
  {
   "cell_type": "markdown",
   "metadata": {
    "colab_type": "text",
    "id": "JufoTGrG_4uY"
   },
   "source": []
  },
  {
   "cell_type": "code",
   "execution_count": 0,
   "metadata": {
    "colab": {
     "base_uri": "https://localhost:8080/",
     "height": 124
    },
    "colab_type": "code",
    "id": "VxeZTo3aTV_P",
    "outputId": "1a8e3eaa-f263-41df-8c90-eb3d4997806a"
   },
   "outputs": [
    {
     "name": "stdout",
     "output_type": "stream",
     "text": [
      "Go to this URL in a browser: https://accounts.google.com/o/oauth2/auth?client_id=947318989803-6bn6qk8qdgf4n4g3pfee6491hc0brc4i.apps.googleusercontent.com&redirect_uri=urn%3aietf%3awg%3aoauth%3a2.0%3aoob&response_type=code&scope=email%20https%3a%2f%2fwww.googleapis.com%2fauth%2fdocs.test%20https%3a%2f%2fwww.googleapis.com%2fauth%2fdrive%20https%3a%2f%2fwww.googleapis.com%2fauth%2fdrive.photos.readonly%20https%3a%2f%2fwww.googleapis.com%2fauth%2fpeopleapi.readonly\n",
      "\n",
      "Enter your authorization code:\n",
      "··········\n",
      "Mounted at /content/gdrive\n"
     ]
    }
   ],
   "source": [
    "from google.colab import drive\n",
    "drive.mount('/content/gdrive')\n",
    "path_ = '/content/gdrive/My Drive/Projet_representation_learning/'\n",
    "import pandas\n",
    "import io\n",
    "from os import path\n",
    "import string\n",
    "import numpy as np\n",
    "import re\n",
    "import nltk\n",
    "from keras.utils import to_categorical"
   ]
  },
  {
   "cell_type": "code",
   "execution_count": 0,
   "metadata": {
    "colab": {
     "base_uri": "https://localhost:8080/",
     "height": 133
    },
    "colab_type": "code",
    "id": "kW3VEDQmntGY",
    "outputId": "f08adfc7-3b84-42f5-8d77-f71c3c2e882b"
   },
   "outputs": [
    {
     "name": "stderr",
     "output_type": "stream",
     "text": [
      "Using TensorFlow backend.\n"
     ]
    },
    {
     "data": {
      "text/html": [
       "<p style=\"color: red;\">\n",
       "The default version of TensorFlow in Colab will soon switch to TensorFlow 2.x.<br>\n",
       "We recommend you <a href=\"https://www.tensorflow.org/guide/migrate\" target=\"_blank\">upgrade</a> now \n",
       "or ensure your notebook will continue to use TensorFlow 1.x via the <code>%tensorflow_version 1.x</code> magic:\n",
       "<a href=\"https://colab.research.google.com/notebooks/tensorflow_version.ipynb\" target=\"_blank\">more info</a>.</p>\n"
      ],
      "text/plain": [
       "<IPython.core.display.HTML object>"
      ]
     },
     "metadata": {
      "tags": []
     },
     "output_type": "display_data"
    },
    {
     "name": "stdout",
     "output_type": "stream",
     "text": [
      "[nltk_data] Downloading package punkt to /root/nltk_data...\n",
      "[nltk_data]   Unzipping tokenizers/punkt.zip.\n"
     ]
    },
    {
     "data": {
      "text/plain": [
       "True"
      ]
     },
     "execution_count": 20,
     "metadata": {
      "tags": []
     },
     "output_type": "execute_result"
    }
   ],
   "source": [
    "from keras.preprocessing.sequence import pad_sequences\n",
    "#nltk.download('punkt')\n",
    "import tensorflow as tf\n",
    "from tensorflow import math\n",
    "from tensorflow import keras\n",
    "import  tensorflow.keras.backend as K\n",
    "import keras.layers\n",
    "\n",
    "from keras.layers import multiply\n",
    "from keras_layer_normalization import LayerNormalization\n",
    "from keras.models import Model\n",
    "from keras.layers import Input, Embedding, Conv1D, GlobalMaxPooling1D, Concatenate, Dense, Activation, Dropout , concatenate\n",
    "from keras.constraints import max_norm\n",
    "from keras.initializers import glorot_normal\n",
    "from keras.utils import plot_model\n",
    "from keras.layers import Flatten\n",
    "from scipy.special import softmax\n",
    "from keras import backend as K\n",
    "from keras.layers import Dropout\n",
    "import tensorflow as tf\n",
    "import numpy as np\n",
    "from keras.layers import LSTM\n",
    "from keras.layers import Bidirectional\n"
   ]
  },
  {
   "cell_type": "markdown",
   "metadata": {},
   "source": [
    "### Préparation des Données"
   ]
  },
  {
   "cell_type": "code",
   "execution_count": 0,
   "metadata": {
    "colab": {
     "base_uri": "https://localhost:8080/",
     "height": 225
    },
    "colab_type": "code",
    "id": "gfaMB1rsdeu9",
    "outputId": "b9e1a63d-fc31-4e57-8b91-dc00cb2c5219"
   },
   "outputs": [
    {
     "data": {
      "text/plain": [
       "((212, 3), 0      SPONSOR CONTENT BY Prudential\\nA millennial’s ...\n",
       " 1      PASSAGE TO INSPIRATION\\nPAID PROGRAM\\nDESIGN T...\n",
       " 2      SPECIAL ADVERTISING FEATURE\\nSponsored by HP\\n...\n",
       " 3      Bring the wellness trend to your bedroom with ...\n",
       " 4      IN PARTNERSHIP WITH NETFLIX\\n5 Hilariously Bad...\n",
       "                              ...                        \n",
       " 207    PAID PROGRAM\\nLOGISTICS REPORT\\nSuccess Withou...\n",
       " 208    EXPERIENTIAL\\nJOURNEYS\\nA JOURNEY INTO INDIA, ...\n",
       " 209    Mr. Mateusz Morawiecki - the new Prime Ministe...\n",
       " 210    PAID FOR AND POSTED BY SOTHEBY’S INTERNATIONAL...\n",
       " 211    Inside The Egyptian Community Thriving In Mode...\n",
       " Name: Campaign Text, Length: 212, dtype: object)"
      ]
     },
     "execution_count": 53,
     "metadata": {
      "tags": []
     },
     "output_type": "execute_result"
    }
   ],
   "source": [
    "corpus = pandas.read_excel(path_+\"corpus.xlsx\")\n",
    "texts = corpus[\"Campaign Text\"]\n",
    "labels = corpus[\"LEAD ARCHETYPE\"]\n",
    "corpus.shape, texts"
   ]
  },
  {
   "cell_type": "code",
   "execution_count": 0,
   "metadata": {
    "colab": {},
    "colab_type": "code",
    "id": "To38CAbbllDP"
   },
   "outputs": [],
   "source": [
    "train_texts = texts[:160]\n",
    "test_texts = texts[160:]\n",
    "train_labels = labels[:160]\n",
    "test_labels = labels[160:]"
   ]
  },
  {
   "cell_type": "code",
   "execution_count": 0,
   "metadata": {
    "colab": {},
    "colab_type": "code",
    "id": "J69hcFq2wQXt"
   },
   "outputs": [],
   "source": [
    "text=''\n",
    "for elm in train_texts:\n",
    "    text+=elm"
   ]
  },
  {
   "cell_type": "code",
   "execution_count": 0,
   "metadata": {
    "colab": {},
    "colab_type": "code",
    "id": "CdmmEbV5wQUz"
   },
   "outputs": [],
   "source": [
    "vocabulary=set()\n",
    "clean_unicode = {\n",
    "    'http[\\s|:|/|s]*[\\w|.|/|\\d]*':\"\",\n",
    "    \"[^\\x01-\\x7F]\":\" \",\n",
    "    \"HJuly\":\"July\",\n",
    "    \"'s\":\" \",\n",
    "#    '\\w+s':\" \",\n",
    "    '[ \\s\\t\\n\\r\\f\\v]+':\" \",\n",
    "    \"\\W\":\" \",\n",
    "    '[ \\s\\t\\n\\r\\f\\v]+':\" \"\n",
    "}\n",
    "\n",
    "def process_txts(texts, update_vocabulary):\n",
    "    articles = []\n",
    "\n",
    "    for article in texts:\n",
    "      parsed = process_article(article, update_vocabulary)\n",
    "      articles.append(parsed)\n",
    "    return articles\n",
    "\n",
    "def process_article(article, update_vocabulary):\n",
    "\n",
    "    txt_propre = article\n",
    "    for c in clean_unicode:\n",
    "        txt_propre = re.sub(c, clean_unicode[c], txt_propre.lower())\n",
    "        \n",
    "    tokens_clean=txt_propre.split(' ')\n",
    "    tokens_clean=[token for token in tokens_clean if token!=\"\"]\n",
    "\n",
    "    if update_vocabulary:\n",
    "        for token in set(tokens_clean):\n",
    "            vocabulary.add(token)\n",
    "    return tokens_clean\n",
    "\n",
    "train_data = process_txts(train_texts, update_vocabulary=True)\n",
    "test_data=process_txts(test_texts,update_vocabulary=True)"
   ]
  },
  {
   "cell_type": "code",
   "execution_count": 0,
   "metadata": {
    "colab": {
     "base_uri": "https://localhost:8080/",
     "height": 34
    },
    "colab_type": "code",
    "id": "M6kbh3E6yR-w",
    "outputId": "8607d3a4-5ad7-4254-e239-9fbe1e449567"
   },
   "outputs": [
    {
     "data": {
      "text/plain": [
       "18260"
      ]
     },
     "execution_count": 57,
     "metadata": {
      "tags": []
     },
     "output_type": "execute_result"
    }
   ],
   "source": [
    "len(vocabulary)"
   ]
  },
  {
   "cell_type": "markdown",
   "metadata": {},
   "source": [
    "### Chargement des représentations des mots"
   ]
  },
  {
   "cell_type": "markdown",
   "metadata": {
    "colab_type": "text",
    "id": "orsRUNXb_3wH"
   },
   "source": []
  },
  {
   "cell_type": "code",
   "execution_count": 0,
   "metadata": {
    "colab": {},
    "colab_type": "code",
    "id": "oONVeDhAdon1"
   },
   "outputs": [],
   "source": [
    "def load_vectors(fname):\n",
    "    fin = io.open(fname, 'r', encoding='utf-8', newline='\\n', errors='ignore')\n",
    "    n, d = map(int, fin.readline().split())\n",
    "    data = {}\n",
    "    for line in fin:\n",
    "        tokens = line.rstrip().split(' ')\n",
    "        data[tokens[0]] = np.array([float(tokens[i]) for i in range(1, 301)])\n",
    "    return data"
   ]
  },
  {
   "cell_type": "code",
   "execution_count": 0,
   "metadata": {
    "colab": {
     "base_uri": "https://localhost:8080/",
     "height": 243
    },
    "colab_type": "code",
    "id": "4Wbyo7u8d4rI",
    "outputId": "f836b3b9-c32d-4a3e-94fc-da26ba379c25"
   },
   "outputs": [
    {
     "name": "stdout",
     "output_type": "stream",
     "text": [
      "--2020-02-02 15:31:58--  https://dl.fbaipublicfiles.com/fasttext/vectors-english/wiki-news-300d-1M.vec.zip\n",
      "Resolving dl.fbaipublicfiles.com (dl.fbaipublicfiles.com)... 104.20.6.166, 104.20.22.166, 2606:4700:10::6814:16a6, ...\n",
      "Connecting to dl.fbaipublicfiles.com (dl.fbaipublicfiles.com)|104.20.6.166|:443... connected.\n",
      "HTTP request sent, awaiting response... 200 OK\n",
      "Length: 681808098 (650M) [application/zip]\n",
      "Saving to: ‘wiki-news-300d-1M.vec.zip’\n",
      "\n",
      "wiki-news-300d-1M.v 100%[===================>] 650.22M  13.0MB/s    in 51s     \n",
      "\n",
      "2020-02-02 15:32:50 (12.7 MB/s) - ‘wiki-news-300d-1M.vec.zip’ saved [681808098/681808098]\n",
      "\n",
      "Archive:  wiki-news-300d-1M.vec.zip\n",
      "  inflating: wiki-news-300d-1M.vec   \n"
     ]
    }
   ],
   "source": [
    "if not path.exists(\"wiki-news-300d-1M.vec\"):\n",
    "    !wget https://dl.fbaipublicfiles.com/fasttext/vectors-english/wiki-news-300d-1M.vec.zip\n",
    "    !unzip wiki-news-300d-1M.vec.zip\n"
   ]
  },
  {
   "cell_type": "code",
   "execution_count": 0,
   "metadata": {
    "colab": {},
    "colab_type": "code",
    "id": "7IKGS6UqeWC0"
   },
   "outputs": [],
   "source": [
    "all_vectors = load_vectors(\"wiki-news-300d-1M.vec\")"
   ]
  },
  {
   "cell_type": "code",
   "execution_count": 0,
   "metadata": {
    "colab": {
     "base_uri": "https://localhost:8080/",
     "height": 34
    },
    "colab_type": "code",
    "id": "w2sw4Fr1ebaE",
    "outputId": "d24d5c1d-b5bb-45e2-c914-a815eb0add37"
   },
   "outputs": [
    {
     "data": {
      "text/plain": [
       "999994"
      ]
     },
     "execution_count": 18,
     "metadata": {
      "tags": []
     },
     "output_type": "execute_result"
    }
   ],
   "source": [
    "len(all_vectors)"
   ]
  },
  {
   "cell_type": "code",
   "execution_count": 0,
   "metadata": {
    "colab": {},
    "colab_type": "code",
    "id": "HpvMw3O-fHne"
   },
   "outputs": [],
   "source": [
    "unknown_words = set([word for word in vocabulary if word not in all_vectors])\n",
    "vocabulary = list(vocabulary - unknown_words)\n",
    "word_map = {}\n",
    "word_vectors = np.zeros((len(vocabulary) + 2, 300))\n",
    "for i in range(len(vocabulary)):\n",
    "    word_map[vocabulary[i]] = i\n",
    "    word_vectors[i] = all_vectors[vocabulary[i]]\n",
    "word_vectors[len(vocabulary)] = np.random.uniform(low=-0.1, high=0.1, size=300)\n",
    "word_vectors[len(vocabulary) + 1] = np.random.uniform(low=-0.1, high=0.1, size=300)\n",
    "default_index = len(vocabulary)\n",
    "def get_index(word):\n",
    "    return word_map.get(word, default_index)"
   ]
  },
  {
   "cell_type": "code",
   "execution_count": 0,
   "metadata": {
    "colab": {},
    "colab_type": "code",
    "id": "NxcpYYSXebF7"
   },
   "outputs": [],
   "source": [
    "def get_index(word):\n",
    "    return word_map.get(word, default_index)"
   ]
  },
  {
   "cell_type": "code",
   "execution_count": 0,
   "metadata": {
    "colab": {
     "base_uri": "https://localhost:8080/",
     "height": 34
    },
    "colab_type": "code",
    "id": "FakmSKoGfadZ",
    "outputId": "6b11ecb1-7769-44fd-e80f-9bc5c6b95f59"
   },
   "outputs": [
    {
     "data": {
      "text/plain": [
       "1505"
      ]
     },
     "execution_count": 21,
     "metadata": {
      "tags": []
     },
     "output_type": "execute_result"
    }
   ],
   "source": [
    "len(unknown_words)"
   ]
  },
  {
   "cell_type": "code",
   "execution_count": 0,
   "metadata": {
    "colab": {
     "base_uri": "https://localhost:8080/",
     "height": 34
    },
    "colab_type": "code",
    "id": "lBs561NOgE21",
    "outputId": "1c674eef-1ce4-4946-d3f1-f8121036c081"
   },
   "outputs": [
    {
     "data": {
      "text/plain": [
       "16755"
      ]
     },
     "execution_count": 22,
     "metadata": {
      "tags": []
     },
     "output_type": "execute_result"
    }
   ],
   "source": [
    "len(vocabulary)"
   ]
  },
  {
   "cell_type": "code",
   "execution_count": 0,
   "metadata": {
    "colab": {
     "base_uri": "https://localhost:8080/",
     "height": 34
    },
    "colab_type": "code",
    "id": "Dghhft2_jE0R",
    "outputId": "abc18038-ed04-4b35-ad86-dfc93a09171e"
   },
   "outputs": [
    {
     "data": {
      "text/plain": [
       "10302"
      ]
     },
     "execution_count": 23,
     "metadata": {
      "tags": []
     },
     "output_type": "execute_result"
    }
   ],
   "source": [
    "get_index('bottle')"
   ]
  },
  {
   "cell_type": "code",
   "execution_count": 0,
   "metadata": {
    "colab": {},
    "colab_type": "code",
    "id": "aBrGqrhHkNta"
   },
   "outputs": [],
   "source": [
    "def format_sentences(article,max_length=None,max_sentence = None):\n",
    "    if max_length == None:\n",
    "        max_length = max([len(sentence) for sentence in article])\n",
    "    tokens = nltk.sent_tokenize(article)\n",
    "    nb_sentences = len(tokens)\n",
    "    doc = np.zeros((nb_sentences,max_length))\n",
    "    t=0\n",
    "    for i in range(nb_sentences):\n",
    "        tmp=tokens[i]\n",
    "        tmp2 = nltk.wordpunct_tokenize(tmp)\n",
    "        sentences = []\n",
    "        for word in tmp2:\n",
    "            sentences.append(get_index(word))\n",
    "          \n",
    "            sequences = pad_sequences([sentences], \n",
    "                              maxlen=max_length, \n",
    "                              dtype='int32', \n",
    "                              padding='post', \n",
    "                              truncating='pre',\n",
    "                              value=len(vocabulary)+1) # id pour les tokens \"hors phrase\"\n",
    "          \n",
    "        doc[i,:] = sequences[0]\n",
    "      \n",
    "    if max_sentence == None:\n",
    "        return doc\n",
    "    \n",
    "    \n",
    "    return doc[:max_sentence,:]"
   ]
  },
  {
   "cell_type": "code",
   "execution_count": 0,
   "metadata": {
    "colab": {
     "base_uri": "https://localhost:8080/",
     "height": 34
    },
    "colab_type": "code",
    "id": "7ZwneIC36MCX",
    "outputId": "4cde3cef-4b13-4e77-dde8-7ed3e1665454"
   },
   "outputs": [
    {
     "data": {
      "text/plain": [
       "(14, 15)"
      ]
     },
     "execution_count": 48,
     "metadata": {
      "tags": []
     },
     "output_type": "execute_result"
    }
   ],
   "source": [
    "format_sentences(train_texts[46],max_length=15,max_sentence=14).shape"
   ]
  },
  {
   "cell_type": "code",
   "execution_count": 0,
   "metadata": {
    "colab": {},
    "colab_type": "code",
    "id": "xlpXYTxQxoQd"
   },
   "outputs": [],
   "source": [
    "len(train_texts)\n",
    "data = np.zeros((len(train_texts), 11, 15))\n",
    "for i in range(len(train_texts)):\n",
    "    data[i,:,:] = format_sentences(train_texts[i],max_length=15,max_sentence=11)\n",
    "    #print(format_sentences(train_texts[i],max_length=15,max_sentence=11).shape,data[i,:,:].shape, i)\n"
   ]
  },
  {
   "cell_type": "code",
   "execution_count": 0,
   "metadata": {
    "colab": {},
    "colab_type": "code",
    "id": "n82-3gRgLRsI"
   },
   "outputs": [],
   "source": [
    "y = np.arange(160)\n",
    "for i in range(len(y)):\n",
    "    if train_labels[i] == 'Entertaining':\n",
    "        y[i] = 0\n",
    "    elif train_labels[i] == 'Informative':\n",
    "        y[i] = 1\n",
    "    elif train_labels[i] == 'Inspirational':\n",
    "        y[i] = 2\n",
    "    else:\n",
    "        y[i] = 3"
   ]
  },
  {
   "cell_type": "code",
   "execution_count": 0,
   "metadata": {
    "colab": {
     "base_uri": "https://localhost:8080/",
     "height": 156
    },
    "colab_type": "code",
    "id": "uIfJesmcMLXM",
    "outputId": "9ea19800-6be2-4b15-e313-92d62e4407db"
   },
   "outputs": [
    {
     "data": {
      "text/plain": [
       "array([3, 2, 1, 3, 0, 0, 2, 2, 3, 1, 2, 1, 2, 3, 2, 1, 3, 2, 1, 2, 1, 1,\n",
       "       1, 1, 2, 1, 1, 1, 2, 3, 1, 0, 1, 1, 3, 2, 1, 1, 3, 2, 1, 1, 3, 0,\n",
       "       3, 2, 3, 3, 3, 1, 1, 2, 1, 1, 1, 3, 1, 3, 0, 2, 0, 0, 0, 0, 1, 3,\n",
       "       1, 1, 2, 2, 1, 1, 1, 1, 3, 2, 0, 3, 0, 2, 1, 1, 1, 1, 0, 1, 3, 1,\n",
       "       1, 3, 1, 1, 2, 2, 3, 3, 0, 2, 2, 2, 2, 1, 3, 0, 3, 2, 3, 1, 3, 1,\n",
       "       3, 1, 0, 1, 1, 0, 0, 1, 1, 3, 0, 1, 2, 1, 3, 3, 2, 3, 1, 1, 3, 1,\n",
       "       1, 1, 0, 2, 1, 3, 1, 0, 2, 2, 0, 2, 1, 3, 1, 3, 1, 3, 1, 1, 3, 1,\n",
       "       3, 1, 3, 0, 2, 1])"
      ]
     },
     "execution_count": 54,
     "metadata": {
      "tags": []
     },
     "output_type": "execute_result"
    }
   ],
   "source": [
    "y"
   ]
  },
  {
   "cell_type": "code",
   "execution_count": 0,
   "metadata": {
    "colab": {},
    "colab_type": "code",
    "id": "uIT_bS8mMNx4"
   },
   "outputs": [],
   "source": [
    "train_labels_categorical = to_categorical(y,num_classes=4)"
   ]
  },
  {
   "cell_type": "code",
   "execution_count": 0,
   "metadata": {
    "colab": {},
    "colab_type": "code",
    "id": "3HOb0QKrQ0X6"
   },
   "outputs": [],
   "source": [
    "train_X, test_X, train_y, test_y = train_test_split(data, train_labels_categorical, \n",
    "                                                    train_size=0.7,\n",
    "                                                    test_size=0.3,\n",
    "                                                    random_state=123)"
   ]
  },
  {
   "cell_type": "code",
   "execution_count": 0,
   "metadata": {
    "colab": {
     "base_uri": "https://localhost:8080/",
     "height": 34
    },
    "colab_type": "code",
    "id": "58vyZ7M9n5MN",
    "outputId": "215cb4dd-d784-478e-e8a3-f028098859f3"
   },
   "outputs": [
    {
     "data": {
      "text/plain": [
       "array([[0., 0., 0., 1.]], dtype=float32)"
      ]
     },
     "execution_count": 30,
     "metadata": {
      "tags": []
     },
     "output_type": "execute_result"
    }
   ],
   "source": [
    "train_y[0].reshape(1,4)"
   ]
  },
  {
   "cell_type": "code",
   "execution_count": 0,
   "metadata": {
    "colab": {
     "base_uri": "https://localhost:8080/",
     "height": 34
    },
    "colab_type": "code",
    "id": "7lW8jP-HoI8D",
    "outputId": "98151d2d-9a26-47c6-a88f-007269d529e9"
   },
   "outputs": [
    {
     "data": {
      "text/plain": [
       "(112, 11, 15)"
      ]
     },
     "execution_count": 31,
     "metadata": {
      "tags": []
     },
     "output_type": "execute_result"
    }
   ],
   "source": [
    "train_X.shape"
   ]
  },
  {
   "cell_type": "code",
   "execution_count": 0,
   "metadata": {
    "colab": {},
    "colab_type": "code",
    "id": "uZmqLQhBn4ec"
   },
   "outputs": [],
   "source": [
    "sess = tf.Session()"
   ]
  },
  {
   "cell_type": "code",
   "execution_count": 0,
   "metadata": {
    "colab": {
     "base_uri": "https://localhost:8080/",
     "height": 34
    },
    "colab_type": "code",
    "id": "DqIlFmGITBdh",
    "outputId": "e4039d06-ce3c-4ede-a59c-cdd2b34753ab"
   },
   "outputs": [
    {
     "data": {
      "text/plain": [
       "<tf.Tensor 'Const_1:0' shape=(3, 3) dtype=float32>"
      ]
     },
     "execution_count": 37,
     "metadata": {
      "tags": []
     },
     "output_type": "execute_result"
    }
   ],
   "source": [
    "inputs = K.placeholder(ndim=3)\n",
    "I=K.constant(np.arange(9).reshape(3,3))\n",
    "H=K.constant(np.arange(1,10).reshape(3,3))\n",
    "H"
   ]
  },
  {
   "cell_type": "code",
   "execution_count": 0,
   "metadata": {
    "colab": {
     "base_uri": "https://localhost:8080/",
     "height": 69
    },
    "colab_type": "code",
    "id": "6F2Vm6KWXahk",
    "outputId": "7f99ff42-74e0-4fca-ae30-55d212a62600"
   },
   "outputs": [
    {
     "data": {
      "text/plain": [
       "array([[  8.,  17.,  26.],\n",
       "       [ 26.,  62.,  98.],\n",
       "       [ 44., 107., 170.]], dtype=float32)"
      ]
     },
     "execution_count": 340,
     "metadata": {
      "tags": []
     },
     "output_type": "execute_result"
    }
   ],
   "source": [
    "K.eval(K.dot(I, K.transpose(H)))"
   ]
  },
  {
   "cell_type": "code",
   "execution_count": 0,
   "metadata": {
    "colab": {
     "base_uri": "https://localhost:8080/",
     "height": 69
    },
    "colab_type": "code",
    "id": "4nuHzQuITuTX",
    "outputId": "6cc4e1e3-b27b-44b6-cb41-f81187dcfd41"
   },
   "outputs": [
    {
     "data": {
      "text/plain": [
       "array([[2.1207906e-04, 5.7649065e-04, 1.5670641e-03],\n",
       "       [4.2597218e-03, 1.1579124e-02, 3.1475324e-02],\n",
       "       [8.5558802e-02, 2.3257293e-01, 6.3219881e-01]], dtype=float32)"
      ]
     },
     "execution_count": 39,
     "metadata": {
      "tags": []
     },
     "output_type": "execute_result"
    }
   ],
   "source": [
    "(softmax(I.eval(session=sess)))"
   ]
  },
  {
   "cell_type": "code",
   "execution_count": 0,
   "metadata": {
    "colab": {},
    "colab_type": "code",
    "id": "8loWY81Faj8b"
   },
   "outputs": [],
   "source": [
    "def softmax(x):\n",
    "    return K.exp(x)/K.sum(K.exp(x))"
   ]
  },
  {
   "cell_type": "code",
   "execution_count": 1,
   "metadata": {
    "colab": {
     "base_uri": "https://localhost:8080/",
     "height": 164
    },
    "colab_type": "code",
    "id": "swwNaG7ZaobW",
    "outputId": "675d2715-771f-48d7-b9d4-dbbe9fd46cc6"
   },
   "outputs": [],
   "source": [
    "Attention=K.dot(softmax(K.dot(Q,K.transpose(Key)/np.sqrt(300))),V)"
   ]
  },
  {
   "cell_type": "code",
   "execution_count": 0,
   "metadata": {
    "colab": {
     "base_uri": "https://localhost:8080/",
     "height": 34
    },
    "colab_type": "code",
    "id": "F62r_UZ1ZJBn",
    "outputId": "21e5882f-281e-4547-a95a-32ebf674ce43"
   },
   "outputs": [
    {
     "data": {
      "text/plain": [
       "<tf.Tensor 'words_10:0' shape=(?, 15) dtype=float32>"
      ]
     },
     "execution_count": 257,
     "metadata": {
      "tags": []
     },
     "output_type": "execute_result"
    }
   ],
   "source": [
    "input_words"
   ]
  },
  {
   "cell_type": "code",
   "execution_count": 0,
   "metadata": {
    "colab": {},
    "colab_type": "code",
    "id": "BCJdgMmxQX2S"
   },
   "outputs": [],
   "source": [
    "W=word_vectors\n",
    "max_length=15\n",
    "max_sentences = 11\n",
    "n_filters=150\n",
    "filter_sizes=3\n",
    "# Configuration de l'entrée\n",
    "input_words = Input(shape=(max_length,), name=\"words\")\n",
    "# Configuration de la couche de représentation des mots - statique\n",
    "words_embedding = Embedding(input_dim=len(vocabulary)+2, # taille du vocabulaire\n",
    "                            output_dim=300, # dimension de l'espace d'embedding des mots\n",
    "                            input_length=max_length, # longeur maximale des textes\n",
    "                            weights=[W], \n",
    "                            name=\"words_embedding\")(input_words)\n",
    "                     \n",
    "\n",
    "#words_embedding_splited = tf.split(words_embedding,2, -1)\n",
    "words_embedding_splited=Lambda(lambda x: tf.split(x, 2, -1))(words_embedding)\n"
   ]
  },
  {
   "cell_type": "code",
   "execution_count": 0,
   "metadata": {
    "colab": {
     "base_uri": "https://localhost:8080/",
     "height": 34
    },
    "colab_type": "code",
    "id": "-DnD4zGkOucN",
    "outputId": "cad7e8bf-a1d4-4886-e5de-ed8977ef5131"
   },
   "outputs": [
    {
     "data": {
      "text/plain": [
       "<tf.Tensor 'lambda_145/split:0' shape=(?, 15, 150) dtype=float32>"
      ]
     },
     "execution_count": 400,
     "metadata": {
      "tags": []
     },
     "output_type": "execute_result"
    }
   ],
   "source": [
    "words_embedding_splited[0]"
   ]
  },
  {
   "cell_type": "markdown",
   "metadata": {},
   "source": [
    "### Definition du modèle du Réseau HCAN (Hierarchical Convolutional Attention Networks)"
   ]
  },
  {
   "cell_type": "code",
   "execution_count": 0,
   "metadata": {
    "colab": {
     "base_uri": "https://localhost:8080/",
     "height": 34
    },
    "colab_type": "code",
    "id": "R-BlRkdC2W6G",
    "outputId": "7b00fc75-9b4e-4cf0-a6b6-aff2e61de174"
   },
   "outputs": [
    {
     "data": {
      "text/plain": [
       "<tf.Tensor 'Multihead_Self_Attention_elu_41/concat:0' shape=(?, 13, 300) dtype=float32>"
      ]
     },
     "execution_count": 401,
     "metadata": {
      "tags": []
     },
     "output_type": "execute_result"
    }
   ],
   "source": [
    "Q1 = Conv1D(n_filters, # nombre de filtres\n",
    "                          kernel_size=3, # taille des filtres\n",
    "                          padding=\"valid\", \n",
    "                          activation='elu',\n",
    "                          name=\"Q1\")(words_embedding_splited[0])\n",
    "Key1 = Conv1D(n_filters, # nombre de filtres\n",
    "                          kernel_size=3, # taille des filtres\n",
    "                          padding=\"valid\", \n",
    "                          activation='elu',\n",
    "                          name=\"Key1\")(words_embedding_splited[0])\n",
    "V1 = Conv1D(n_filters, # nombre de filtres\n",
    "                          kernel_size=3, # taille des filtres\n",
    "                          padding=\"valid\", \n",
    "                          activation='elu',\n",
    "                          name=\"V1\")(words_embedding_splited[0])\n",
    "\n",
    "\n",
    "#Multii = tf.matmul(Q1, Key1,transpose_b=True,name=\"Multi\")\n",
    "#slice0 = Lambda(lambda x: x)(Q1)\n",
    "#slice1 = Lambda(lambda x: x)(Key1)\n",
    "Multi = Lambda(lambda x: tf.matmul(x[0], x[1], transpose_b=True,name=\"Produit_Q_K\"))([Q1, Key1])\n",
    "qk=Lambda(lambda x: tf.math.divide(x, np.sqrt(150)))(Multi)\n",
    "soft=Lambda(lambda x: tf.nn.softmax(x,name=\"softmax\"))(qk)\n",
    "head1 = Lambda(lambda x: tf.matmul(x[0], x[1], transpose_b=False,name=\"head1\"))([soft, V1])\n",
    "\n",
    "#head2 = tf.matmul(soft, V2)\n",
    "#K=tf.matmul(Q1, Key1, transpose_b=True)\n",
    "\n",
    "merge_convolution = K\n",
    "\n",
    "h1 = Dense(200,activation=\"tanh\",name=\"h1\")((head1))\n",
    "h2 = Dense(4,activation=\"softmax\",name=\"h2\")(h1)\n",
    "\n",
    "word_encoder = Model(inputs=input_words, outputs=h2)                            \n",
    "soft = tf.nn.softmax(qk)\n",
    "head1 = tf.matmul(soft, V1)\n",
    "\n",
    "Q2 = Conv1D(n_filters, # nombre de filtres\n",
    "                          kernel_size=3, # taille des filtres\n",
    "                          padding=\"valid\", \n",
    "                          activation='elu',\n",
    "                          name=\"Q2\")(words_embedding_splited[1])\n",
    "Key2 = Conv1D(n_filters, # nombre de filtres\n",
    "                          kernel_size=3, # taille des filtres\n",
    "                          padding=\"valid\", \n",
    "                          activation='elu',\n",
    "                          name=\"Key2\")(words_embedding_splited[1])\n",
    "V2 = Conv1D(n_filters, # nombre de filtres\n",
    "                          kernel_size=3, # taille des filtres\n",
    "                          padding=\"valid\", \n",
    "                          activation='elu',\n",
    "                          name=\"V2\")(words_embedding_splited[1])\n",
    "\n",
    "K=tf.matmul(Q2, Key2, transpose_b=True)\n",
    "qk = tf.math.divide(K, np.sqrt(150))\n",
    "soft = tf.nn.softmax(qk)\n",
    "head2 = tf.matmul(soft, V2)\n",
    "\n",
    "Multihead_elu = concatenate([head1,head2], name=\"Multihead_Self_Attention_elu\", axis=-1)\n",
    "Multihead_elu\n",
    "\n"
   ]
  },
  {
   "cell_type": "code",
   "execution_count": 0,
   "metadata": {
    "colab": {
     "base_uri": "https://localhost:8080/",
     "height": 953
    },
    "colab_type": "code",
    "id": "cs3KGTizCv53",
    "outputId": "2b70cacb-1cf4-4a19-8d22-259a698292c8"
   },
   "outputs": [
    {
     "data": {
      "image/png": "[encoded data removed]",
      "text/plain": [
       "<IPython.core.display.Image object>"
      ]
     },
     "execution_count": 402,
     "metadata": {
      "tags": []
     },
     "output_type": "execute_result"
    }
   ],
   "source": [
    "plot_model(word_encoder)"
   ]
  },
  {
   "cell_type": "code",
   "execution_count": 0,
   "metadata": {
    "colab": {
     "base_uri": "https://localhost:8080/",
     "height": 52
    },
    "colab_type": "code",
    "id": "VsHykBtB535b",
    "outputId": "311170d0-72ca-435b-f6f4-16aed077fc08"
   },
   "outputs": [
    {
     "data": {
      "text/plain": [
       "(<tf.Tensor 'MatMul_496:0' shape=(?, 13, 13) dtype=float32>,\n",
       " <tf.Tensor 'lambda_12/MatMul:0' shape=(?, 13, 13) dtype=float32>)"
      ]
     },
     "execution_count": 349,
     "metadata": {
      "tags": []
     },
     "output_type": "execute_result"
    }
   ],
   "source": [
    "K=tf.matmul(Q1, Key1, transpose_b=True)\n",
    "K,masked"
   ]
  },
  {
   "cell_type": "code",
   "execution_count": 3,
   "metadata": {
    "colab": {
     "base_uri": "https://localhost:8080/",
     "height": 403
    },
    "colab_type": "code",
    "id": "JsA8bjpY0YdJ",
    "outputId": "6a399a84-2da0-4d14-b8a3-f230142cfa83"
   },
   "outputs": [],
   "source": [
    "h3 = Dense(20, activation=\"tanh\", name = \"h3\")(Multihead_elu)\n",
    "h4 = Dense(11,activation=\"softmax\",name=\"h4\")(h3)\n",
    "flatten_dim = Flatten()(h4)\n",
    "    \n",
    "preds = Dense(4, activation='softmax')(Q1)\n",
    "Model(input = input_words, outputs = preds)"
   ]
  },
  {
   "cell_type": "code",
   "execution_count": 0,
   "metadata": {
    "colab": {},
    "colab_type": "code",
    "id": "nipld4lEfb8a"
   },
   "outputs": [],
   "source": [
    "Q11 = Conv1D(n_filters, # nombre de filtres\n",
    "                          kernel_size=3, # taille des filtres\n",
    "                          padding=\"valid\", \n",
    "                          activation='tanh',\n",
    "                          name=\"Q11\")(words_embedding_splited[0])\n",
    "Key11 = Conv1D(n_filters, # nombre de filtres\n",
    "                          kernel_size=3, # taille des filtres\n",
    "                          padding=\"valid\", \n",
    "                          activation='tanh',\n",
    "                          name=\"Key11\")(words_embedding_splited[0])\n",
    "V11 = Conv1D(n_filters, # nombre de filtres\n",
    "                          kernel_size=3, # taille des filtres\n",
    "                          padding=\"valid\", \n",
    "                          activation='tanh',\n",
    "                          name=\"V11\")(words_embedding_splited[0])\n",
    "\n",
    "K=tf.matmul(Q11, Key11, transpose_b=True)\n",
    "qk = tf.math.divide(K, np.sqrt(150))\n",
    "soft = tf.nn.softmax(qk)\n",
    "head11 = tf.matmul(soft, V11)\n",
    "\n",
    "Q22 = Conv1D(n_filters, # nombre de filtres\n",
    "                          kernel_size=3, # taille des filtres\n",
    "                          padding=\"valid\", \n",
    "                          activation='tanh',\n",
    "                          name=\"Q22\")(words_embedding_splited[1])\n",
    "Key22 = Conv1D(n_filters, # nombre de filtres\n",
    "                          kernel_size=3, # taille des filtres\n",
    "                          padding=\"valid\", \n",
    "                          activation='tanh',\n",
    "                          name=\"Key22\")(words_embedding_splited[1])\n",
    "V22 = Conv1D(n_filters, # nombre de filtres\n",
    "                          kernel_size=3, # taille des filtres\n",
    "                          padding=\"valid\", \n",
    "                          activation='tanh',\n",
    "                          name=\"V22\")(words_embedding_splited[1])\n",
    "\n",
    "K=tf.matmul(Q22, Key22, transpose_b=True)\n",
    "qk = tf.math.divide(K, np.sqrt(150))\n",
    "soft = tf.nn.softmax(qk)\n",
    "head22 = tf.matmul(soft, V22)\n",
    "\n",
    "Multihead_tanh = concatenate([head11,head22], name=\"Multihead_Self_Attention_tanh\", axis=-1)\n",
    "Multihead_tanh\n",
    "\n",
    "Multi=tf.multiply(Multihead_tanh,Multihead_elu)\n",
    "word_Norm=tf.keras.backend.l2_normalize(Multi) "
   ]
  },
  {
   "cell_type": "code",
   "execution_count": 4,
   "metadata": {
    "colab": {
     "base_uri": "https://localhost:8080/",
     "height": 332
    },
    "colab_type": "code",
    "id": "Cio-1AcJ9xdl",
    "outputId": "19623a97-c89a-4ced-a5b4-8eebe024b693"
   },
   "outputs": [],
   "source": [
    "from sklearn.model_selection import train_test_split\n",
    "#!pip install keras-layer-normalization"
   ]
  },
  {
   "cell_type": "code",
   "execution_count": 5,
   "metadata": {
    "colab": {
     "base_uri": "https://localhost:8080/",
     "height": 348
    },
    "colab_type": "code",
    "id": "hQJ2ouFN6NEF",
    "outputId": "34c3345d-be02-4b0b-cc37-0c2e3202dcb8"
   },
   "outputs": [],
   "source": [
    "\n",
    "\"\"\"from tensorflow.keras import layers\n",
    "class Linear(layers.Layer):\n",
    "\n",
    "  def __init__(self, units=32, input_dim=32):\n",
    "    super(Linear, self).__init__()\n",
    "    self.w = self.add_weight(shape=(input_dim, units),\n",
    "                             initializer='random_normal',\n",
    "                             trainable=True)\n",
    "    self.b = self.add_weight(shape=(units,),\n",
    "                             initializer='zeros',\n",
    "                             trainable=True)\n",
    "\n",
    "  def call(self, inputs):\n",
    "    return tf.matmul(inputs, self.w) + self.b\n",
    "\n",
    "x = tf.ones((1, 1))\n",
    "linear_layer = Linear(150, 1)\n",
    "T = linear_layer(x)\"\"\"\n",
    "T= tf.Variable(tf.random.normal((1, 150)))\n",
    "\n",
    "K = Conv1D(n_filters,\n",
    "                     kernel_size=3,\n",
    "                      activation= \"elu\",\n",
    "                      name=\"K\" )(word_Norm)\n",
    "V = Conv1D(n_filters,\n",
    "                     kernel_size=3,\n",
    "                      activation= \"elu\",\n",
    "                      name=\"V\" )(word_Norm)\n",
    "\n",
    "K,V                      \n",
    "result=tf.matmul(T, K, transpose_b=True)\n",
    "TK = tf.math.divide(result, np.sqrt(150))\n",
    "soft = tf.nn.softmax(TK)\n",
    "TargetAttention = tf.matmul(soft, V)\n",
    "\n",
    "\n",
    "preds = Dense(4, activation='softmax')(TargetAttention)\n",
    "model=Model(inputs=input_words,outputs=preds)"
   ]
  },
  {
   "cell_type": "code",
   "execution_count": 0,
   "metadata": {
    "colab": {},
    "colab_type": "code",
    "id": "rumPiSpCfiKA"
   },
   "outputs": [],
   "source": [
    "######### for sentences\n",
    "input_sentences = Input(shape=(max_sentences, max_length), name = \"sentences\")\n",
    "\n",
    "\n",
    "input_sentences_splited = tf.split(input_sentences,3, -1)\n",
    "\n",
    "\n",
    "Q1 = Conv1D(n_filters, # nombre de filtres\n",
    "                          kernel_size=3, # taille des filtres\n",
    "                          padding=\"valid\", \n",
    "                          activation='elu',\n",
    "                          name=\"Q\")(input_sentences_splited[0])\n",
    "Key1 = Conv1D(n_filters, # nombre de filtres\n",
    "                          kernel_size=3, # taille des filtres\n",
    "                          padding=\"valid\", \n",
    "                          activation='elu',\n",
    "                          name=\"Key\")(input_sentences_splited[0])\n",
    "V1 = Conv1D(n_filters, # nombre de filtres\n",
    "                          kernel_size=3, # taille des filtres\n",
    "                          padding=\"valid\", \n",
    "                          activation='elu',\n",
    "                          name=\"V\")(input_sentences_splited[0])\n",
    "\n",
    "K=tf.matmul(Q1, Key1, transpose_b=True)\n",
    "qk = tf.math.divide(K, np.sqrt(150))\n",
    "soft = tf.nn.softmax(qk)\n",
    "head1 = tf.matmul(soft, V1)\n",
    "\n",
    "Q2 = Conv1D(n_filters, # nombre de filtres\n",
    "                          kernel_size=3, # taille des filtres\n",
    "                          padding=\"valid\", \n",
    "                          activation='elu',\n",
    "                          name=\"Q\")(input_sentences_splited[1])\n",
    "Key2 = Conv1D(n_filters, # nombre de filtres\n",
    "                          kernel_size=3, # taille des filtres\n",
    "                          padding=\"valid\", \n",
    "                          activation='elu',\n",
    "                          name=\"Key\")(input_sentences_splited[1])\n",
    "V2 = Conv1D(n_filters, # nombre de filtres\n",
    "                          kernel_size=3, # taille des filtres\n",
    "                          padding=\"valid\", \n",
    "                          activation='elu',\n",
    "                          name=\"V\")(input_sentences_splited[1])\n",
    "\n",
    "K=tf.matmul(Q2, Key2, transpose_b=True)\n",
    "qk = tf.math.divide(K, np.sqrt(150))\n",
    "soft = tf.nn.softmax(qk)\n",
    "head2 = tf.matmul(soft, V2)\n",
    "\n",
    "Q3 = Conv1D(n_filters, # nombre de filtres\n",
    "                          kernel_size=3, # taille des filtres\n",
    "                          padding=\"valid\", \n",
    "                          activation='elu',\n",
    "                          name=\"Q\")(input_sentences_splited[2])\n",
    "Key3 = Conv1D(n_filters, # nombre de filtres\n",
    "                          kernel_size=3, # taille des filtres\n",
    "                          padding=\"valid\", \n",
    "                          activation='elu',\n",
    "                          name=\"Key\")(input_sentences_splited[2])\n",
    "V3 = Conv1D(n_filters, # nombre de filtres\n",
    "                          kernel_size=3, # taille des filtres\n",
    "                          padding=\"valid\", \n",
    "                          activation='elu',\n",
    "                          name=\"V\")(input_sentences_splited[2])\n",
    "\n",
    "K=tf.matmul(Q3, Key3, transpose_b=True)\n",
    "qk = tf.math.divide(K, np.sqrt(150))\n",
    "soft = tf.nn.softmax(qk)\n",
    "head3 = tf.matmul(soft, V3)\n",
    "\n",
    "Multihead_elu = tf.concat([head1,head2,head3], name=\"Sentences_Multihead_Self_Attention_elu\", axis=-1)\n",
    "Multihead_elu\n",
    "\n",
    "\n",
    "##\n",
    "Q1 = Conv1D(n_filters, # nombre de filtres\n",
    "                          kernel_size=3, # taille des filtres\n",
    "                          padding=\"valid\", \n",
    "                          activation='tanh',\n",
    "                          name=\"Q\")(input_sentences_splited[0])\n",
    "Key1 = Conv1D(n_filters, # nombre de filtres\n",
    "                          kernel_size=3, # taille des filtres\n",
    "                          padding=\"valid\", \n",
    "                          activation='tanh',\n",
    "                          name=\"Key\")(input_sentences_splited[0])\n",
    "V1 = Conv1D(n_filters, # nombre de filtres\n",
    "                          kernel_size=3, # taille des filtres\n",
    "                          padding=\"valid\", \n",
    "                          activation='tanh',\n",
    "                          name=\"V\")(input_sentences_splited[0])\n",
    "\n",
    "K=tf.matmul(Q1, Key1, transpose_b=True)\n",
    "qk = tf.math.divide(K, np.sqrt(150))\n",
    "soft = tf.nn.softmax(qk)\n",
    "head1 = tf.matmul(soft, V1)\n",
    "\n",
    "Q2 = Conv1D(n_filters, # nombre de filtres\n",
    "                          kernel_size=3, # taille des filtres\n",
    "                          padding=\"valid\", \n",
    "                          activation='tanh',\n",
    "                          name=\"Q\")(input_sentences_splited[1])\n",
    "Key2 = Conv1D(n_filters, # nombre de filtres\n",
    "                          kernel_size=3, # taille des filtres\n",
    "                          padding=\"valid\", \n",
    "                          activation='tanh',\n",
    "                          name=\"Key\")(input_sentences_splited[1])\n",
    "V2 = Conv1D(n_filters, # nombre de filtres\n",
    "                          kernel_size=3, # taille des filtres\n",
    "                          padding=\"valid\", \n",
    "                          activation='tanh',\n",
    "                          name=\"V\")(input_sentences_splited[1])\n",
    "\n",
    "K=tf.matmul(Q2, Key2, transpose_b=True)\n",
    "qk = tf.math.divide(K, np.sqrt(150))\n",
    "soft = tf.nn.softmax(qk)\n",
    "head2 = tf.matmul(soft, V2)\n",
    "\n",
    "Q3 = Conv1D(n_filters, # nombre de filtres\n",
    "                          kernel_size=3, # taille des filtres\n",
    "                          padding=\"valid\", \n",
    "                          activation='tanh',\n",
    "                          name=\"Q\")(input_sentences_splited[2])\n",
    "Key3 = Conv1D(n_filters, # nombre de filtres\n",
    "                          kernel_size=3, # taille des filtres\n",
    "                          padding=\"valid\", \n",
    "                          activation='tanh',\n",
    "                          name=\"Key\")(input_sentences_splited[2])\n",
    "V3 = Conv1D(n_filters, # nombre de filtres\n",
    "                          kernel_size=3, # taille des filtres\n",
    "                          padding=\"valid\", \n",
    "                          activation='tanh',\n",
    "                          name=\"V\")(input_sentences_splited[2])\n",
    "\n",
    "K=tf.matmul(Q3, Key3, transpose_b=True)\n",
    "qk = tf.math.divide(K, np.sqrt(150))\n",
    "soft = tf.nn.softmax(qk)\n",
    "head3 = tf.matmul(soft, V3)\n",
    "\n",
    "Multihead_tanh = tf.concat([head1,head2,head3], name=\"Sentences_Multihead_Self_Attention_tanh\", axis=-1)\n",
    "Multihead_tanh\n",
    "\n",
    "MultiHeads=[]\n",
    "Multi=tf.multiply(Multihead_tanh,Multihead_elu)\n",
    "Sent_Norm=tf.keras.backend.l2_normalize(Multi) "
   ]
  },
  {
   "cell_type": "code",
   "execution_count": 0,
   "metadata": {
    "colab": {
     "base_uri": "https://localhost:8080/",
     "height": 52
    },
    "colab_type": "code",
    "id": "ppYNv_t3rwdW",
    "outputId": "d3a74f3c-5db2-4967-d524-3561a618f1b8"
   },
   "outputs": [
    {
     "data": {
      "text/plain": [
       "(<tf.Tensor 'K_4/Elu:0' shape=(?, 7, 150) dtype=float32>,\n",
       " <tf.Tensor 'V_135/Elu:0' shape=(?, 7, 150) dtype=float32>)"
      ]
     },
     "execution_count": 227,
     "metadata": {
      "tags": []
     },
     "output_type": "execute_result"
    }
   ],
   "source": [
    "K = Conv1D(n_filters,\n",
    "                     kernel_size=3,\n",
    "                      activation= \"elu\",\n",
    "                      name=\"K\" )(Sent_Norm)\n",
    "V = Conv1D(n_filters,\n",
    "                     kernel_size=3,\n",
    "                      activation= \"elu\",\n",
    "                      name=\"V\" )(Sent_Norm)\n",
    "\n",
    "K,V                      "
   ]
  },
  {
   "cell_type": "code",
   "execution_count": 0,
   "metadata": {
    "colab": {
     "base_uri": "https://localhost:8080/",
     "height": 34
    },
    "colab_type": "code",
    "id": "RgvTu1NJXhir",
    "outputId": "382ac8da-e572-455a-fb4b-1700cbae1d7e"
   },
   "outputs": [
    {
     "data": {
      "text/plain": [
       "<tf.Tensor 'linear_7/add:0' shape=(1, 150) dtype=float32>"
      ]
     },
     "execution_count": 229,
     "metadata": {
      "tags": []
     },
     "output_type": "execute_result"
    }
   ],
   "source": [
    "from tensorflow.keras import layers\n",
    "class Linear(layers.Layer):\n",
    "\n",
    "  def __init__(self, units=32, input_dim=32):\n",
    "    super(Linear, self).__init__()\n",
    "    self.w = self.add_weight(shape=(input_dim, units),\n",
    "                             initializer='random_normal',\n",
    "                             trainable=True)\n",
    "    self.b = self.add_weight(shape=(units,),\n",
    "                             initializer='zeros',\n",
    "                             trainable=True)\n",
    "\n",
    "  def call(self, inputs):\n",
    "    return tf.matmul(inputs, self.w) + self.b\n",
    "\n",
    "x = tf.ones((1, 1))\n",
    "linear_layer = Linear(150, 1)\n",
    "T = linear_layer(x)\n",
    "T\n"
   ]
  },
  {
   "cell_type": "code",
   "execution_count": 6,
   "metadata": {
    "colab": {
     "base_uri": "https://localhost:8080/",
     "height": 348
    },
    "colab_type": "code",
    "id": "zS_1wTjoyMDW",
    "outputId": "42db1aa2-00df-40fd-8db8-48a771b68fdb"
   },
   "outputs": [],
   "source": [
    "result=tf.matmul(T, K, transpose_b=True)\n",
    "TK = tf.math.divide(result, np.sqrt(150))\n",
    "soft = tf.nn.softmax(TK)\n",
    "TargetAttention = tf.matmul(soft, V)\n",
    "\n",
    "preds = Dense(4, activation='softmax')(TargetAttention)\n",
    "model=Model(inputs=input_words,outputs=preds)"
   ]
  },
  {
   "cell_type": "markdown",
   "metadata": {},
   "source": [
    "### Definition du modèle du Réseau HCN (Hierarchical Convolutional  Networks)"
   ]
  },
  {
   "cell_type": "code",
   "execution_count": 0,
   "metadata": {
    "colab": {},
    "colab_type": "code",
    "id": "XFT615R49F7W"
   },
   "outputs": [],
   "source": [
    "def HCN(W,max_length=10,max_sentences = 15,n_filters=300,filter_sizes=3):\n",
    "    # Configuration de l'entrée\n",
    "    input_words = Input(shape=(max_length,), name=\"words\")\n",
    "    # Configuration de la couche de représentation des mots - statique\n",
    "    words_embedding = Embedding(input_dim=len(vocabulary)+2, # taille du vocabulaire\n",
    "                               output_dim=300, # dimension de l'espace d'embedding des mots\n",
    "                               input_length=max_length, # longeur maximale des textes\n",
    "                               weights=[W], \n",
    "                               name=\"words_embedding\")(input_words)\n",
    "    Q = Conv1D(n_filters, # nombre de filtres\n",
    "                             kernel_size=3, # taille des filtres\n",
    "                             padding=\"valid\", \n",
    "                             activation='elu',\n",
    "                             name=\"Q\")(words_embedding)\n",
    "    Key = Conv1D(n_filters, # nombre de filtres\n",
    "                             kernel_size=3, # taille des filtres\n",
    "                             padding=\"valid\", \n",
    "                             activation='elu',\n",
    "                             name=\"Key\")(words_embedding)\n",
    "    V = Conv1D(n_filters, # nombre de filtres\n",
    "                             kernel_size=3, # taille des filtres\n",
    "                             padding=\"valid\", \n",
    "                             activation='elu',\n",
    "                             name=\"V\")(words_embedding)\n",
    "\n",
    "    merge_convolution = concatenate([Q,Key,V], name=\"concatenate_pooling\")\n",
    "\n",
    "    h1 = Dense(200,activation=\"tanh\",name=\"h1\")(merge_convolution)\n",
    "    h2 = Dense(15,activation=\"softmax\",name=\"h2\")(h1)\n",
    "   \n",
    "    word_encoder = Model(inputs=input_words, outputs=h2)      \n",
    "\n",
    "    input_sentences = Input(shape=(max_sentences, max_length), name = \"sentences\")\n",
    "    \n",
    "    Q1 = Conv1D(n_filters, # nombre de filtres\n",
    "                             kernel_size=3, # taille des filtres\n",
    "                             padding=\"valid\", \n",
    "                             activation='elu',\n",
    "                             name=\"Q1\")(input_sentences)\n",
    "    Key1 = Conv1D(n_filters, # nombre de filtres\n",
    "                             kernel_size=3, # taille des filtres\n",
    "                             padding=\"valid\", \n",
    "                             activation='elu',\n",
    "                             name=\"Key1\")(input_sentences)\n",
    "    V1 = Conv1D(n_filters, # nombre de filtres\n",
    "                             kernel_size=3, # taille des filtres\n",
    "                             padding=\"valid\", \n",
    "                             activation='elu',\n",
    "                             name=\"V1\")(input_sentences)\n",
    "    \n",
    "    merge_convolution1 = concatenate([Q1,Key1,V1], name=\"concatenate_pooling1\")\n",
    "\n",
    "    h3 = Dense(20, activation=\"tanh\", name = \"h3\")(merge_convolution1)\n",
    "    h4 = Dense(11,activation=\"softmax\",name=\"h4\")(h3)\n",
    "    flatten_dim = Flatten()(h4)\n",
    "    \n",
    "    preds = Dense(4, activation='softmax')(flatten_dim)\n",
    "    return  Model(input = input_sentences, outputs = preds)"
   ]
  },
  {
   "cell_type": "code",
   "execution_count": 0,
   "metadata": {
    "colab": {
     "base_uri": "https://localhost:8080/",
     "height": 698
    },
    "colab_type": "code",
    "id": "1s62maDsRxzX",
    "outputId": "877c3544-9462-42bd-83dd-d07dd7debaa9"
   },
   "outputs": [
    {
     "name": "stderr",
     "output_type": "stream",
     "text": [
      "/usr/local/lib/python3.6/dist-packages/ipykernel_launcher.py:58: UserWarning: Update your `Model` call to the Keras 2 API: `Model(outputs=Tensor(\"de..., inputs=Tensor(\"se...)`\n"
     ]
    },
    {
     "data": {
      "image/png": "[encoded data removed]",
      "text/plain": [
       "<IPython.core.display.Image object>"
      ]
     },
     "execution_count": 67,
     "metadata": {
      "tags": []
     },
     "output_type": "execute_result"
    }
   ],
   "source": [
    "import matplotlib.pyplot as plt\n",
    "%matplotlib inline\n",
    "\n",
    "# Initialisation du modèle\n",
    "model = HCN(word_vectors, \n",
    "                         max_length = 15,\n",
    "                         max_sentences = 11,\n",
    "                         n_filters=300,\n",
    "                         filter_sizes=3)\n",
    "plot_model(model)"
   ]
  },
  {
   "cell_type": "code",
   "execution_count": 0,
   "metadata": {
    "colab": {
     "base_uri": "https://localhost:8080/",
     "height": 503
    },
    "colab_type": "code",
    "id": "focQ73r1YpnI",
    "outputId": "2851563c-9819-4cb2-fffa-892a9b01a914"
   },
   "outputs": [
    {
     "name": "stdout",
     "output_type": "stream",
     "text": [
      "Model: \"model_3\"\n",
      "__________________________________________________________________________________________________\n",
      "Layer (type)                    Output Shape         Param #     Connected to                     \n",
      "==================================================================================================\n",
      "sentences (InputLayer)          (None, 11, 15)       0                                            \n",
      "__________________________________________________________________________________________________\n",
      "Q1 (Conv1D)                     (None, 9, 300)       13800       sentences[0][0]                  \n",
      "__________________________________________________________________________________________________\n",
      "Key1 (Conv1D)                   (None, 9, 300)       13800       sentences[0][0]                  \n",
      "__________________________________________________________________________________________________\n",
      "V1 (Conv1D)                     (None, 9, 300)       13800       sentences[0][0]                  \n",
      "__________________________________________________________________________________________________\n",
      "concatenate_pooling1 (Concatena (None, 9, 900)       0           Q1[0][0]                         \n",
      "                                                                 Key1[0][0]                       \n",
      "                                                                 V1[0][0]                         \n",
      "__________________________________________________________________________________________________\n",
      "h3 (Dense)                      (None, 9, 20)        18020       concatenate_pooling1[0][0]       \n",
      "__________________________________________________________________________________________________\n",
      "h4 (Dense)                      (None, 9, 11)        231         h3[0][0]                         \n",
      "__________________________________________________________________________________________________\n",
      "flatten_2 (Flatten)             (None, 99)           0           h4[0][0]                         \n",
      "__________________________________________________________________________________________________\n",
      "dense_2 (Dense)                 (None, 4)            400         flatten_2[0][0]                  \n",
      "==================================================================================================\n",
      "Total params: 60,051\n",
      "Trainable params: 60,051\n",
      "Non-trainable params: 0\n",
      "__________________________________________________________________________________________________\n"
     ]
    }
   ],
   "source": [
    "model.compile(loss='categorical_crossentropy',\n",
    "                optimizer='adadelta',\n",
    "                metrics=['accuracy'])\n",
    "\n",
    "model.summary()"
   ]
  },
  {
   "cell_type": "code",
   "execution_count": 0,
   "metadata": {
    "colab": {
     "base_uri": "https://localhost:8080/",
     "height": 1000
    },
    "colab_type": "code",
    "id": "u3oOHWsOYzTW",
    "outputId": "d8a06fc1-103b-4a9f-da82-46a0ed82fd9a"
   },
   "outputs": [
    {
     "name": "stdout",
     "output_type": "stream",
     "text": [
      "WARNING:tensorflow:From /usr/local/lib/python3.6/dist-packages/tensorflow_core/python/ops/math_grad.py:1424: where (from tensorflow.python.ops.array_ops) is deprecated and will be removed in a future version.\n",
      "Instructions for updating:\n",
      "Use tf.where in 2.0, which has the same broadcast rule as np.where\n",
      "WARNING:tensorflow:From /usr/local/lib/python3.6/dist-packages/keras/backend/tensorflow_backend.py:1033: The name tf.assign_add is deprecated. Please use tf.compat.v1.assign_add instead.\n",
      "\n",
      "WARNING:tensorflow:From /usr/local/lib/python3.6/dist-packages/keras/backend/tensorflow_backend.py:1020: The name tf.assign is deprecated. Please use tf.compat.v1.assign instead.\n",
      "\n",
      "Train on 112 samples, validate on 48 samples\n",
      "Epoch 1/50\n",
      "112/112 [==============================] - 1s 9ms/step - loss: 1.3385 - acc: 0.3661 - val_loss: 1.3616 - val_acc: 0.3542\n",
      "Epoch 2/50\n",
      "112/112 [==============================] - 0s 2ms/step - loss: 1.3030 - acc: 0.4375 - val_loss: 1.3464 - val_acc: 0.3542\n",
      "Epoch 3/50\n",
      "112/112 [==============================] - 0s 2ms/step - loss: 1.2999 - acc: 0.4375 - val_loss: 1.3575 - val_acc: 0.3542\n",
      "Epoch 4/50\n",
      "112/112 [==============================] - 0s 2ms/step - loss: 1.3036 - acc: 0.4375 - val_loss: 1.3684 - val_acc: 0.3542\n",
      "Epoch 5/50\n",
      "112/112 [==============================] - 0s 1ms/step - loss: 1.3025 - acc: 0.4375 - val_loss: 1.3568 - val_acc: 0.3542\n",
      "Epoch 6/50\n",
      "112/112 [==============================] - 0s 1ms/step - loss: 1.3001 - acc: 0.4375 - val_loss: 1.3682 - val_acc: 0.3542\n",
      "Epoch 7/50\n",
      "112/112 [==============================] - 0s 2ms/step - loss: 1.2960 - acc: 0.4375 - val_loss: 1.3610 - val_acc: 0.3542\n",
      "Epoch 8/50\n",
      "112/112 [==============================] - 0s 1ms/step - loss: 1.2971 - acc: 0.4375 - val_loss: 1.3654 - val_acc: 0.3542\n",
      "Epoch 9/50\n",
      "112/112 [==============================] - 0s 1ms/step - loss: 1.2975 - acc: 0.4375 - val_loss: 1.3737 - val_acc: 0.3542\n",
      "Epoch 10/50\n",
      "112/112 [==============================] - 0s 1ms/step - loss: 1.2987 - acc: 0.4375 - val_loss: 1.3726 - val_acc: 0.3542\n",
      "Epoch 11/50\n",
      "112/112 [==============================] - 0s 1ms/step - loss: 1.2977 - acc: 0.4375 - val_loss: 1.3679 - val_acc: 0.3542\n",
      "Epoch 12/50\n",
      "112/112 [==============================] - 0s 1ms/step - loss: 1.2955 - acc: 0.4375 - val_loss: 1.3606 - val_acc: 0.3542\n",
      "Epoch 13/50\n",
      "112/112 [==============================] - 0s 1ms/step - loss: 1.2958 - acc: 0.4375 - val_loss: 1.3663 - val_acc: 0.3542\n",
      "Epoch 14/50\n",
      "112/112 [==============================] - 0s 1ms/step - loss: 1.2955 - acc: 0.4375 - val_loss: 1.3677 - val_acc: 0.3542\n",
      "Epoch 15/50\n",
      "112/112 [==============================] - 0s 1ms/step - loss: 1.2939 - acc: 0.4375 - val_loss: 1.3625 - val_acc: 0.3542\n",
      "Epoch 16/50\n",
      "112/112 [==============================] - 0s 2ms/step - loss: 1.2947 - acc: 0.4375 - val_loss: 1.3622 - val_acc: 0.3542\n",
      "Epoch 17/50\n",
      "112/112 [==============================] - 0s 1ms/step - loss: 1.2950 - acc: 0.4375 - val_loss: 1.3664 - val_acc: 0.3542\n",
      "Epoch 18/50\n",
      "112/112 [==============================] - 0s 1ms/step - loss: 1.2944 - acc: 0.4375 - val_loss: 1.3695 - val_acc: 0.3542\n",
      "Epoch 19/50\n",
      "112/112 [==============================] - 0s 1ms/step - loss: 1.2949 - acc: 0.4375 - val_loss: 1.3704 - val_acc: 0.3542\n",
      "Epoch 20/50\n",
      "112/112 [==============================] - 0s 1ms/step - loss: 1.2956 - acc: 0.4375 - val_loss: 1.3665 - val_acc: 0.3542\n",
      "Epoch 21/50\n",
      "112/112 [==============================] - 0s 1ms/step - loss: 1.2942 - acc: 0.4375 - val_loss: 1.3671 - val_acc: 0.3542\n",
      "Epoch 22/50\n",
      "112/112 [==============================] - 0s 2ms/step - loss: 1.2950 - acc: 0.4375 - val_loss: 1.3652 - val_acc: 0.3542\n",
      "Epoch 23/50\n",
      "112/112 [==============================] - 0s 2ms/step - loss: 1.2942 - acc: 0.4375 - val_loss: 1.3675 - val_acc: 0.3542\n",
      "Epoch 24/50\n",
      "112/112 [==============================] - 0s 1ms/step - loss: 1.2931 - acc: 0.4375 - val_loss: 1.3706 - val_acc: 0.3542\n",
      "Epoch 25/50\n",
      "112/112 [==============================] - 0s 1ms/step - loss: 1.2952 - acc: 0.4375 - val_loss: 1.3694 - val_acc: 0.3542\n",
      "Epoch 26/50\n",
      "112/112 [==============================] - 0s 2ms/step - loss: 1.2945 - acc: 0.4375 - val_loss: 1.3675 - val_acc: 0.3542\n",
      "Epoch 27/50\n",
      "112/112 [==============================] - 0s 1ms/step - loss: 1.2934 - acc: 0.4375 - val_loss: 1.3683 - val_acc: 0.3542\n",
      "Epoch 28/50\n",
      "112/112 [==============================] - 0s 1ms/step - loss: 1.2941 - acc: 0.4375 - val_loss: 1.3628 - val_acc: 0.3542\n",
      "Epoch 29/50\n",
      "112/112 [==============================] - 0s 1ms/step - loss: 1.2932 - acc: 0.4375 - val_loss: 1.3638 - val_acc: 0.3542\n",
      "Epoch 30/50\n",
      "112/112 [==============================] - 0s 1ms/step - loss: 1.2926 - acc: 0.4375 - val_loss: 1.3674 - val_acc: 0.3542\n",
      "Epoch 31/50\n",
      "112/112 [==============================] - 0s 1ms/step - loss: 1.2920 - acc: 0.4375 - val_loss: 1.3681 - val_acc: 0.3542\n",
      "Epoch 32/50\n",
      "112/112 [==============================] - 0s 1ms/step - loss: 1.2921 - acc: 0.4375 - val_loss: 1.3653 - val_acc: 0.3542\n",
      "Epoch 33/50\n",
      "112/112 [==============================] - 0s 1ms/step - loss: 1.2935 - acc: 0.4375 - val_loss: 1.3666 - val_acc: 0.3542\n",
      "Epoch 34/50\n",
      "112/112 [==============================] - 0s 2ms/step - loss: 1.2927 - acc: 0.4375 - val_loss: 1.3688 - val_acc: 0.3542\n",
      "Epoch 35/50\n",
      "112/112 [==============================] - 0s 2ms/step - loss: 1.2930 - acc: 0.4375 - val_loss: 1.3676 - val_acc: 0.3542\n",
      "Epoch 36/50\n",
      "112/112 [==============================] - 0s 1ms/step - loss: 1.2914 - acc: 0.4375 - val_loss: 1.3621 - val_acc: 0.3542\n",
      "Epoch 37/50\n",
      "112/112 [==============================] - 0s 2ms/step - loss: 1.2919 - acc: 0.4375 - val_loss: 1.3628 - val_acc: 0.3542\n",
      "Epoch 38/50\n",
      "112/112 [==============================] - 0s 1ms/step - loss: 1.2913 - acc: 0.4375 - val_loss: 1.3666 - val_acc: 0.3542\n",
      "Epoch 39/50\n",
      "112/112 [==============================] - 0s 2ms/step - loss: 1.2932 - acc: 0.4375 - val_loss: 1.3665 - val_acc: 0.3542\n",
      "Epoch 40/50\n",
      "112/112 [==============================] - 0s 2ms/step - loss: 1.2914 - acc: 0.4375 - val_loss: 1.3639 - val_acc: 0.3542\n",
      "Epoch 41/50\n",
      "112/112 [==============================] - 0s 2ms/step - loss: 1.2914 - acc: 0.4375 - val_loss: 1.3663 - val_acc: 0.3542\n",
      "Epoch 42/50\n",
      "112/112 [==============================] - 0s 1ms/step - loss: 1.2921 - acc: 0.4375 - val_loss: 1.3667 - val_acc: 0.3542\n",
      "Epoch 43/50\n",
      "112/112 [==============================] - 0s 2ms/step - loss: 1.2914 - acc: 0.4375 - val_loss: 1.3675 - val_acc: 0.3542\n",
      "Epoch 44/50\n",
      "112/112 [==============================] - 0s 1ms/step - loss: 1.2911 - acc: 0.4375 - val_loss: 1.3665 - val_acc: 0.3542\n",
      "Epoch 45/50\n",
      "112/112 [==============================] - 0s 2ms/step - loss: 1.2905 - acc: 0.4375 - val_loss: 1.3630 - val_acc: 0.3542\n",
      "Epoch 46/50\n",
      "112/112 [==============================] - 0s 2ms/step - loss: 1.2914 - acc: 0.4375 - val_loss: 1.3641 - val_acc: 0.3542\n",
      "Epoch 47/50\n",
      "112/112 [==============================] - 0s 1ms/step - loss: 1.2903 - acc: 0.4375 - val_loss: 1.3636 - val_acc: 0.3542\n",
      "Epoch 48/50\n",
      "112/112 [==============================] - 0s 1ms/step - loss: 1.2903 - acc: 0.4375 - val_loss: 1.3686 - val_acc: 0.3542\n",
      "Epoch 49/50\n",
      "112/112 [==============================] - 0s 1ms/step - loss: 1.2916 - acc: 0.4375 - val_loss: 1.3689 - val_acc: 0.3542\n",
      "Epoch 50/50\n",
      "112/112 [==============================] - 0s 1ms/step - loss: 1.2908 - acc: 0.4375 - val_loss: 1.3697 - val_acc: 0.3542\n"
     ]
    },
    {
     "data": {
      "image/png": "[encoded data removed]",
      "text/plain": [
       "<Figure size 432x288 with 1 Axes>"
      ]
     },
     "metadata": {
      "tags": []
     },
     "output_type": "display_data"
    }
   ],
   "source": [
    "import matplotlib.pyplot as plt\n",
    "%matplotlib inline\n",
    "# Optimisation\n",
    "log = model.fit(train_X,\n",
    "                train_y,\n",
    "                batch_size=2,\n",
    "                epochs=50,\n",
    "                validation_data=(test_X, \n",
    "                                 test_y))\n",
    "\n",
    "# Visualisation des courbes d'apprentissage\n",
    "plt.plot(log.history['acc'])\n",
    "plt.plot(log.history['val_acc'])\n",
    "plt.title('Model accuracy')\n",
    "plt.ylabel('accuracy')\n",
    "plt.xlabel('epoch')\n",
    "plt.legend(['train', 'validation'], loc='upper left')\n",
    "plt.show()"
   ]
  },
  {
   "cell_type": "code",
   "execution_count": 0,
   "metadata": {
    "colab": {
     "base_uri": "https://localhost:8080/",
     "height": 34
    },
    "colab_type": "code",
    "id": "jqmrmahUY9WW",
    "outputId": "f6697e2f-2840-4b23-89dd-8c337d586928"
   },
   "outputs": [
    {
     "data": {
      "text/plain": [
       "((160, 1000), (52, 1000))"
      ]
     },
     "execution_count": 65,
     "metadata": {
      "tags": []
     },
     "output_type": "execute_result"
    }
   ],
   "source": [
    "train_input.shape,test_input.shape"
   ]
  },
  {
   "cell_type": "code",
   "execution_count": 0,
   "metadata": {
    "colab": {},
    "colab_type": "code",
    "id": "jhHt8dg4Z6ed"
   },
   "outputs": [],
   "source": []
  }
 ],
 "metadata": {
  "colab": {
   "collapsed_sections": [],
   "include_colab_link": true,
   "machine_shape": "hm",
   "name": "HCAN_HCN.ipynb",
   "provenance": [],
   "toc_visible": true
  },
  "kernelspec": {
   "display_name": "Python 3",
   "language": "python",
   "name": "python3"
  },
  "language_info": {
   "codemirror_mode": {
    "name": "ipython",
    "version": 3
   },
   "file_extension": ".py",
   "mimetype": "text/x-python",
   "name": "python",
   "nbconvert_exporter": "python",
   "pygments_lexer": "ipython3",
   "version": "3.7.4"
  }
 },
 "nbformat": 4,
 "nbformat_minor": 1
}

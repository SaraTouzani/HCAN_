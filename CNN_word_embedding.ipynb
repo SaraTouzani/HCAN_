{
 "cells": [
  {
   "cell_type": "markdown",
   "metadata": {},
   "source": [
    "# Classification de documents"
   ]
  },
  {
   "cell_type": "markdown",
   "metadata": {},
   "source": [
    "Utilisation des réseaux de convolution(CNN) et de la représentation de mots (Word Embedding) pour faire la classification de documents"
   ]
  },
  {
   "cell_type": "markdown",
   "metadata": {
    "colab_type": "text",
    "id": "O8jLDcKKZQ7A"
   },
   "source": [
    "### Chargement et pré-traitement du corpus"
   ]
  },
  {
   "cell_type": "code",
   "execution_count": 0,
   "metadata": {
    "colab": {},
    "colab_type": "code",
    "id": "_i2hVcEjZQ7H"
   },
   "outputs": [],
   "source": [
    "import io\n",
    "from os import path\n",
    "import string\n",
    "import numpy as np\n",
    "import re\n",
    "\n",
    "if not path.exists(\"TRAIN_FILE.TXT\"):\n",
    "    !wget http://mediamining.univ-lyon2.fr/people/guille/word_embedding/TRAIN_FILE.TXT\n",
    "if not path.exists(\"TEST_FILE_FULL.TXT\"):\n",
    "    !wget http://mediamining.univ-lyon2.fr/people/guille/word_embedding/TEST_FILE_FULL.TXT\n",
    "\n",
    "merger = [re.compile(\"(<e1>).*(<\\/e1>)\"), re.compile(\"(<e2>).*(<\\/e2>)\")]\n",
    "\n",
    "\n",
    "def extract_entity(sentence, k):\n",
    "    e_str = merger[k-1].search(sentence).group()\n",
    "    sentence = sentence.replace(e_str, e_str.replace(\" \", \"_\"))\n",
    "    tokens = sentence.split(\" \")\n",
    "    tokens_clean = []\n",
    "    index = 0\n",
    "    for i in range(len(tokens)):\n",
    "        token = tokens[i]\n",
    "        if \"<e\"+str(k)+\">\" in token:\n",
    "            index = i\n",
    "            token = token.replace(\"<e\"+str(k)+\">\", \"\").replace(\"</e\"+str(k)+\">\", \"\").replace(\"_\", \" \")\n",
    "        tokens_clean.append(token)\n",
    "    return index, tokens_clean\n",
    "\n",
    "\n",
    "def parse(text, update_vocabulary):\n",
    "    lines = text.lower().split(\"\\n\")\n",
    "    sentence = lines[0].split(\"\\t\")[1].strip('\"')\n",
    "    index_1, tokens_clean = extract_entity(sentence, 1)\n",
    "    index_2, tokens_clean = extract_entity(\" \".join(tokens_clean), 2)\n",
    "    label = lines[1]\n",
    "    tokens_clean = [token.strip(string.punctuation).replace(\"'s\", \"\") for token in tokens_clean]\n",
    "    if update_vocabulary:\n",
    "        for token in tokens_clean:\n",
    "            vocabulary.add(token)\n",
    "    return tokens_clean, (index_1, index_2), label\n",
    "\n",
    "\n",
    "def process_file(fname, update_vocabulary):\n",
    "    sentences = []\n",
    "    indexes = []\n",
    "    labels = []\n",
    "    with io.open(fname, \"r\", encoding=\"utf-8\", newline=\"\\n\", errors=\"ignore\") as input_file:\n",
    "        text = \"\"\n",
    "        for s in input_file:\n",
    "            text += s\n",
    "        blocks = text.split(\"\\n\\n\")\n",
    "        for block in blocks:\n",
    "            parsed = parse(block, update_vocabulary)\n",
    "            sentences.append(parsed[0])\n",
    "            indexes.append(parsed[1])\n",
    "            labels.append(parsed[2])\n",
    "    return sentences, indexes, labels\n",
    "\n",
    "\n",
    "vocabulary = set()\n",
    "train_data = process_file(\"TRAIN_FILE.TXT\", update_vocabulary=True)\n",
    "test_data = process_file(\"TEST_FILE_FULL.TXT\", update_vocabulary=False)"
   ]
  },
  {
   "cell_type": "markdown",
   "metadata": {
    "colab_type": "text",
    "id": "LZPjkB2jZQ7j"
   },
   "source": [
    "### Chargement des représentations des mots"
   ]
  },
  {
   "cell_type": "code",
   "execution_count": 0,
   "metadata": {
    "colab": {},
    "colab_type": "code",
    "id": "vACz3hcFZQ7m"
   },
   "outputs": [],
   "source": [
    "import numpy as np\n",
    "\n",
    "\n",
    "def load_vectors(fname):\n",
    "    fin = io.open(fname, 'r', encoding='utf-8', newline='\\n', errors='ignore')\n",
    "    n, d = map(int, fin.readline().split())\n",
    "    data = {}\n",
    "    for line in fin:\n",
    "        tokens = line.rstrip().split(' ')\n",
    "        data[tokens[0]] = np.array([float(tokens[i]) for i in range(1, 301)])\n",
    "    return data"
   ]
  },
  {
   "cell_type": "code",
   "execution_count": 0,
   "metadata": {
    "colab": {
     "base_uri": "https://localhost:8080/",
     "height": 34
    },
    "colab_type": "code",
    "id": "cO5hoCmwC0mC",
    "outputId": "b3f8ec4f-208c-46af-a0cb-609df6519214"
   },
   "outputs": [
    {
     "data": {
      "text/plain": [
       "(18186, 999994)"
      ]
     },
     "execution_count": 15,
     "metadata": {
      "tags": []
     },
     "output_type": "execute_result"
    }
   ],
   "source": [
    "if not path.exists(\"wiki-news-300d-1M.vec\"):\n",
    "    !wget https://dl.fbaipublicfiles.com/fasttext/vectors-english/wiki-news-300d-1M.vec.zip\n",
    "    !unzip wiki-news-300d-1M.vec.zip\n",
    "\n",
    "vectors = load_vectors(\"wiki-news-300d-1M.vec\")\n",
    "\n",
    "len(vocabulary),len(vectors)\n"
   ]
  },
  {
   "cell_type": "code",
   "execution_count": 0,
   "metadata": {
    "colab": {},
    "colab_type": "code",
    "id": "RGm6ZazOZQ77"
   },
   "outputs": [],
   "source": [
    "unknown_words = set([word for word in vocabulary if word not in vectors])\n",
    "vocabulary = list(vocabulary - unknown_words)\n",
    "word_map = {}\n",
    "word_vectors = np.zeros((len(vocabulary) + 2, 300))\n",
    "for i in range(len(vocabulary)):\n",
    "    word_map[vocabulary[i]] = i\n",
    "    word_vectors[i] = vectors[vocabulary[i]]\n",
    "word_vectors[len(vocabulary)] = np.random.uniform(low=-0.1, high=0.1, size=300)\n",
    "word_vectors[len(vocabulary) + 1] = np.random.uniform(low=-0.1, high=0.1, size=300)\n",
    "default_index = len(vocabulary)\n",
    "def get_index(word):\n",
    "    return word_map.get(word, default_index)"
   ]
  },
  {
   "cell_type": "markdown",
   "metadata": {
    "colab_type": "text",
    "id": "p0AqeczQZQ8F"
   },
   "source": [
    "### Préparation du corpus"
   ]
  },
  {
   "cell_type": "code",
   "execution_count": 0,
   "metadata": {
    "colab": {},
    "colab_type": "code",
    "id": "DX1CQfTcZQ8H",
    "outputId": "7898ac06-8d59-478d-91b5-e86c3f376859"
   },
   "outputs": [
    {
     "name": "stderr",
     "output_type": "stream",
     "text": [
      "Using TensorFlow backend.\n",
      "/opt/anaconda3/lib/python3.7/site-packages/tensorflow/python/framework/dtypes.py:526: FutureWarning: Passing (type, 1) or '1type' as a synonym of type is deprecated; in a future version of numpy, it will be understood as (type, (1,)) / '(1,)type'.\n",
      "  _np_qint8 = np.dtype([(\"qint8\", np.int8, 1)])\n",
      "/opt/anaconda3/lib/python3.7/site-packages/tensorflow/python/framework/dtypes.py:527: FutureWarning: Passing (type, 1) or '1type' as a synonym of type is deprecated; in a future version of numpy, it will be understood as (type, (1,)) / '(1,)type'.\n",
      "  _np_quint8 = np.dtype([(\"quint8\", np.uint8, 1)])\n",
      "/opt/anaconda3/lib/python3.7/site-packages/tensorflow/python/framework/dtypes.py:528: FutureWarning: Passing (type, 1) or '1type' as a synonym of type is deprecated; in a future version of numpy, it will be understood as (type, (1,)) / '(1,)type'.\n",
      "  _np_qint16 = np.dtype([(\"qint16\", np.int16, 1)])\n",
      "/opt/anaconda3/lib/python3.7/site-packages/tensorflow/python/framework/dtypes.py:529: FutureWarning: Passing (type, 1) or '1type' as a synonym of type is deprecated; in a future version of numpy, it will be understood as (type, (1,)) / '(1,)type'.\n",
      "  _np_quint16 = np.dtype([(\"quint16\", np.uint16, 1)])\n",
      "/opt/anaconda3/lib/python3.7/site-packages/tensorflow/python/framework/dtypes.py:530: FutureWarning: Passing (type, 1) or '1type' as a synonym of type is deprecated; in a future version of numpy, it will be understood as (type, (1,)) / '(1,)type'.\n",
      "  _np_qint32 = np.dtype([(\"qint32\", np.int32, 1)])\n",
      "/opt/anaconda3/lib/python3.7/site-packages/tensorflow/python/framework/dtypes.py:535: FutureWarning: Passing (type, 1) or '1type' as a synonym of type is deprecated; in a future version of numpy, it will be understood as (type, (1,)) / '(1,)type'.\n",
      "  np_resource = np.dtype([(\"resource\", np.ubyte, 1)])\n"
     ]
    }
   ],
   "source": [
    "from keras.preprocessing.sequence import pad_sequences\n",
    "from sklearn.preprocessing import OneHotEncoder\n",
    "\n",
    "def format_sentences(sentences, indexes, max_length=None):\n",
    "    if max_length == None:\n",
    "        max_length = max([len(sentence) for sentence in sentences])\n",
    "    sentences = [[get_index(t) for t in sentence] for sentence in sentences]\n",
    "    sequences = pad_sequences(sentences, \n",
    "                              maxlen=max_length, \n",
    "                              dtype='int32', \n",
    "                              padding='post', \n",
    "                              truncating='pre',\n",
    "                              value=len(vocabulary)+1) # id pour les tokens \"hors phrase\"\n",
    "\n",
    "    positions_1 = []\n",
    "    positions_2 = []\n",
    "    for i in range(len(sentences)):\n",
    "        index_1 = indexes[i][0]\n",
    "        positions_1.append([max_length + j - index_1 - 1 for j in range(max_length)])\n",
    "        index_2 = indexes[i][1]\n",
    "        positions_2.append([max_length + j - index_2 - 1 for j in range(max_length)])\n",
    "    positions_1 = np.array(positions_1, dtype=np.int32)\n",
    "    positions_2 = np.array(positions_2, dtype=np.int32)\n",
    "\n",
    "    return max_length, [sequences, positions_1, positions_2]\n",
    "\n",
    "max_length, train_input = format_sentences(train_data[0], train_data[1])\n",
    "_, test_input = format_sentences(test_data[0], test_data[1], max_length)\n",
    "\n",
    "label_encoder = OneHotEncoder()\n",
    "train_classes = label_encoder.fit_transform(np.array(train_data[2]).reshape(-1, 1))\n",
    "test_classes = label_encoder.transform(np.array(test_data[2]).reshape(-1, 1))"
   ]
  },
  {
   "cell_type": "markdown",
   "metadata": {
    "colab_type": "text",
    "id": "3U2aQx8nZQ8V"
   },
   "source": [
    "### Définition du réseau de neurones"
   ]
  },
  {
   "cell_type": "code",
   "execution_count": 0,
   "metadata": {
    "colab": {},
    "colab_type": "code",
    "id": "6m3UqZZRZQ8X"
   },
   "outputs": [],
   "source": [
    "from keras.models import Model\n",
    "from keras.layers import Input, Embedding, Conv1D, GlobalMaxPooling1D, concatenate, Dense, Activation, Dropout\n",
    "from keras.constraints import max_norm\n",
    "from keras.initializers import glorot_normal\n",
    "from keras.utils import plot_model\n",
    "\n",
    "\n",
    "def initialize_model(W, P, max_length, n_filters=150, filter_sizes=[2, 3, 4, 5], activation=\"tanh\", p=0.5, clip=3., train_word_vectors=True):\n",
    "    # Configuration de l'entée\n",
    "    input_words = Input(shape=(max_length, ), name=\"words\")\n",
    "\n",
    "    # Configuration de la couche de représentation des mots - statique\n",
    "    word_embedding = Embedding(input_dim=len(vocabulary) + 2,\n",
    "                               output_dim=300,\n",
    "                               input_length=max_length,\n",
    "                               weights=[W],\n",
    "                               trainable=train_word_vectors,\n",
    "                               name=\"word_embedding\")(input_words)\n",
    "\n",
    "    # Configuration des couches de représentation des positions - non-statiques\n",
    "    \n",
    "\n",
    "    # Concaténation des représentations des mots et des représentations des positions\n",
    "    \n",
    "\n",
    "    # Configuration des couches de convolution en parallèle, avec max pooling \n",
    "    convolution = Conv1D(n_filters,\n",
    "                         kernel_size=2,\n",
    "                         activation=activation,\n",
    "                         name=\"convolution\")(word_embedding)\n",
    "        \n",
    "    # Concaténation des sorties des couches de max pooling parallèles, avec dropout\n",
    "    pooling = GlobalMaxPooling1D(name=\"pooling\")(convolution)\n",
    "    \n",
    "    # Configuration de la couche de classification\n",
    "    classification = Dense(19,\n",
    "                           activation=\"softmax\",\n",
    "                           kernel_initializer=glorot_normal(),\n",
    "                           name=\"classification\")(pooling)\n",
    "    \n",
    "    return Model(inputs=[input_words], \n",
    "                 outputs=classification)"
   ]
  },
  {
   "cell_type": "code",
   "execution_count": 0,
   "metadata": {
    "colab": {},
    "colab_type": "code",
    "id": "tfrkl1jWZQ8h",
    "outputId": "b8617f0c-79e0-4617-8046-1cb8c075dd39"
   },
   "outputs": [
    {
     "name": "stdout",
     "output_type": "stream",
     "text": [
      "WARNING:tensorflow:From /opt/anaconda3/lib/python3.7/site-packages/tensorflow/python/ops/math_ops.py:3066: to_int32 (from tensorflow.python.ops.math_ops) is deprecated and will be removed in a future version.\n",
      "Instructions for updating:\n",
      "Use tf.cast instead.\n",
      "WARNING:tensorflow:From /opt/anaconda3/lib/python3.7/site-packages/tensorflow/python/ops/math_grad.py:102: div (from tensorflow.python.ops.math_ops) is deprecated and will be removed in a future version.\n",
      "Instructions for updating:\n",
      "Deprecated in favor of operator or tf.math.divide.\n",
      "Train on 8000 samples, validate on 2717 samples\n",
      "Epoch 1/5\n",
      "8000/8000 [==============================] - 5s 597us/step - loss: 2.4553 - accuracy: 0.2508 - val_loss: 2.0894 - val_accuracy: 0.3346\n",
      "Epoch 2/5\n",
      "8000/8000 [==============================] - 4s 532us/step - loss: 1.8484 - accuracy: 0.4345 - val_loss: 1.6557 - val_accuracy: 0.4921\n",
      "Epoch 3/5\n",
      "8000/8000 [==============================] - 4s 555us/step - loss: 1.4899 - accuracy: 0.5506 - val_loss: 1.4180 - val_accuracy: 0.5650\n",
      "Epoch 4/5\n",
      "8000/8000 [==============================] - 5s 563us/step - loss: 1.2305 - accuracy: 0.6310 - val_loss: 1.2818 - val_accuracy: 0.5922\n",
      "Epoch 5/5\n",
      "8000/8000 [==============================] - 4s 552us/step - loss: 1.0374 - accuracy: 0.6927 - val_loss: 1.1855 - val_accuracy: 0.6356\n"
     ]
    },
    {
     "data": {
      "image/png": "[encoded data removed]",
      "text/plain": [
       "<Figure size 432x288 with 1 Axes>"
      ]
     },
     "metadata": {
      "needs_background": "light",
      "tags": []
     },
     "output_type": "display_data"
    }
   ],
   "source": [
    "import matplotlib.pyplot as plt\n",
    "%matplotlib inline\n",
    "\n",
    "# Initialisation du modèle\n",
    "model = initialize_model(word_vectors,\n",
    "                         None,\n",
    "                         max_length, \n",
    "                         n_filters=150)\n",
    "plot_model(model)\n",
    "\n",
    "# Définition de l'objectif à minimiser\n",
    "model.compile(loss=\"categorical_crossentropy\",\n",
    "              optimizer=\"adadelta\",\n",
    "              metrics=['accuracy'])\n",
    "\n",
    "# Optimisation\n",
    "log = model.fit(train_input[0],\n",
    "                train_classes,\n",
    "                batch_size=100,\n",
    "                epochs=5,\n",
    "                validation_data=(test_input[0],\n",
    "                                 test_classes))\n",
    "\n",
    "# Visualisation des courbes d'apprentissage\n",
    "plt.plot(log.history['accuracy'])\n",
    "plt.plot(log.history['val_accuracy'])\n",
    "plt.title('Model accuracy')\n",
    "plt.ylabel('accuracy')\n",
    "plt.xlabel('epoch')\n",
    "plt.legend(['train', 'validation'], loc='upper left')\n",
    "plt.show()"
   ]
  },
  {
   "cell_type": "code",
   "execution_count": 0,
   "metadata": {
    "colab": {},
    "colab_type": "code",
    "id": "yKv6S8iYZQ8t"
   },
   "outputs": [],
   "source": []
  }
 ],
 "metadata": {
  "colab": {
   "name": "CNN.ipynb",
   "provenance": [],
   "toc_visible": true
  },
  "kernelspec": {
   "display_name": "Python 3",
   "language": "python",
   "name": "python3"
  },
  "language_info": {
   "codemirror_mode": {
    "name": "ipython",
    "version": 3
   },
   "file_extension": ".py",
   "mimetype": "text/x-python",
   "name": "python",
   "nbconvert_exporter": "python",
   "pygments_lexer": "ipython3",
   "version": "3.7.4"
  }
 },
 "nbformat": 4,
 "nbformat_minor": 1
}
